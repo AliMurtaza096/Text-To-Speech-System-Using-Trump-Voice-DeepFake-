{
 "cells": [
  {
   "cell_type": "code",
   "execution_count": 1,
   "id": "cd0394ec",
   "metadata": {
    "execution": {
     "iopub.execute_input": "2023-05-30T19:27:40.054805Z",
     "iopub.status.busy": "2023-05-30T19:27:40.053918Z",
     "iopub.status.idle": "2023-05-30T19:27:40.060161Z",
     "shell.execute_reply": "2023-05-30T19:27:40.059027Z"
    },
    "id": "Z8FXdlbJDNjh",
    "papermill": {
     "duration": 0.031002,
     "end_time": "2023-05-30T19:27:40.065215",
     "exception": false,
     "start_time": "2023-05-30T19:27:40.034213",
     "status": "completed"
    },
    "tags": []
   },
   "outputs": [],
   "source": [
    "\n",
    "# !pip3 install ffmpeg\n",
    "# !pip3 install pydub\n",
    "# !pip3 install matplotlib\n",
    "# !pip3 install torch\n",
    "# !pip3 install torchaudio\n",
    "# !pip3 install librosa\n",
    "# !pip3 install inflect\n",
    "# !pip3 install deep_phonemizer\n",
    "\n"
   ]
  },
  {
   "cell_type": "code",
   "execution_count": 2,
   "id": "cdabef28",
   "metadata": {
    "execution": {
     "iopub.execute_input": "2023-05-30T19:27:40.104273Z",
     "iopub.status.busy": "2023-05-30T19:27:40.103567Z",
     "iopub.status.idle": "2023-05-30T19:27:40.108921Z",
     "shell.execute_reply": "2023-05-30T19:27:40.107896Z"
    },
    "id": "CgUycKkyXj1h",
    "papermill": {
     "duration": 0.026973,
     "end_time": "2023-05-30T19:27:40.111328",
     "exception": false,
     "start_time": "2023-05-30T19:27:40.084355",
     "status": "completed"
    },
    "tags": []
   },
   "outputs": [],
   "source": [
    "# !pip3 install deep_phonemizer\n"
   ]
  },
  {
   "cell_type": "code",
   "execution_count": 3,
   "id": "e8eb0597",
   "metadata": {
    "execution": {
     "iopub.execute_input": "2023-05-30T19:27:40.149356Z",
     "iopub.status.busy": "2023-05-30T19:27:40.148278Z",
     "iopub.status.idle": "2023-05-30T19:27:40.153971Z",
     "shell.execute_reply": "2023-05-30T19:27:40.152989Z"
    },
    "id": "zq9jEXwDDNjk",
    "papermill": {
     "duration": 0.026712,
     "end_time": "2023-05-30T19:27:40.156127",
     "exception": false,
     "start_time": "2023-05-30T19:27:40.129415",
     "status": "completed"
    },
    "tags": []
   },
   "outputs": [],
   "source": [
    "# import re\n",
    "# import os \n",
    "\n",
    "# file= open(\"wavs.txt\")\n",
    "# file = file.readlines()\n",
    "\n",
    "# for i, line in enumerate(file):\n",
    "#     filename = re.findall(r'\\d.wav.',line)\n",
    "#     pattern = filename[0]\n",
    "#     print(pattern)\n",
    "    \n",
    "#     replace = ''\n",
    "#     if i <=8:\n",
    "#         output_str = re.sub(\"\\d.wav|\", replace, line)\n",
    "#     elif i <=98:\n",
    "#         output_str = re.sub(\"\\d\\d.wav|\", replace, line)\n",
    "#     else:\n",
    "#         output_str = re.sub(\"\\d\\d\\d.wav|\", replace, line)\n",
    "#     output_str = output_str.replace(\"|\",\"\")\n",
    "#     print(output_str)\n",
    "#     path = os.path.join(\"/home/ali/Desktop/Namal/Idrak/trump/wavs_text\",f'{i+1}.txt')\n",
    "#     file = open(path,'w')\n",
    "#     file = file.write(output_str)\n"
   ]
  },
  {
   "cell_type": "code",
   "execution_count": 4,
   "id": "c02d637b",
   "metadata": {
    "execution": {
     "iopub.execute_input": "2023-05-30T19:27:40.191432Z",
     "iopub.status.busy": "2023-05-30T19:27:40.191106Z",
     "iopub.status.idle": "2023-05-30T19:27:40.197282Z",
     "shell.execute_reply": "2023-05-30T19:27:40.196268Z"
    },
    "id": "YURX6raWDNjk",
    "papermill": {
     "duration": 0.026077,
     "end_time": "2023-05-30T19:27:40.199409",
     "exception": false,
     "start_time": "2023-05-30T19:27:40.173332",
     "status": "completed"
    },
    "tags": []
   },
   "outputs": [],
   "source": [
    "# import inflect\n",
    "# import re\n",
    "\n",
    "            \n",
    "            \n",
    "           \n",
    "# def cleaning_text_files (dir_path): \n",
    "    \n",
    "#     paths = os.listdir(dir_path)\n",
    "#     p = inflect.engine()\n",
    "#     count = 0\n",
    "#     for path in paths:\n",
    "#         if count ==5:\n",
    "#             break\n",
    "#         path = os.path.join(dir_path,path)\n",
    "#         with open(path,'r') as file:\n",
    "#                     data = file.read()\n",
    "#                     data = data.split()\n",
    "#                     for index, word in enumerate(data):\n",
    "#                         if word.isnumeric():\n",
    "#                             word = int(word)\n",
    "#                             changed_word = p.number_to_words(word)\n",
    "#                             data[index]= changed_word\n",
    "#                     new_data = ' '.join(data)\n",
    "                    \n",
    "#                     #Replacing Contractions with full words\n",
    "#                     #specific\n",
    "                    \n",
    "#                     new_data = re.sub(r\"won\\'t\", \"will not\", new_data)\n",
    "#                     new_data = re.sub(r\"can\\'t\", \"can not\", new_data)\n",
    "\n",
    "#                     # general\n",
    "#                     new_data = re.sub(r\"n\\'t\", \" not\", new_data)\n",
    "#                     new_data = re.sub(r\"\\'re\", \" are\", new_data)\n",
    "#                     new_data = re.sub(r\"\\'s\", \" is\", new_data)\n",
    "#                     new_data = re.sub(r\"\\'d\", \" would\", new_data)\n",
    "#                     new_data = re.sub(r\"\\'ll\", \" will\", new_data)\n",
    "#                     new_data = re.sub(r\"\\'t\", \" not\", new_data)\n",
    "#                     new_data = re.sub(r\"\\'ve\", \" have\", new_data)\n",
    "#                     new_data = re.sub(r\"\\'m\", \" am\", new_data)\n",
    "                    \n",
    "#                     #Removing Puntuation Marks\n",
    "#                     new_data = re.sub(r'[^\\w\\s]', '', new_data)\n",
    "#                     file.close()\n",
    "#         count+=1\n",
    "#         with open(path,'w') as file:\n",
    "#             file.write(new_data)\n",
    "#             file.close()\n",
    "    \n",
    "# dir_path = \"/home/ali/Desktop/Namal/Idrak/trump/wavs_text\"\n",
    "# cleaning_text_files(dir_path)\n",
    "    \n",
    "            \n",
    "# !pip3 install torchaudio==0.12.0\n",
    "\n"
   ]
  },
  {
   "cell_type": "code",
   "execution_count": 5,
   "id": "14447850",
   "metadata": {
    "execution": {
     "iopub.execute_input": "2023-05-30T19:27:40.233734Z",
     "iopub.status.busy": "2023-05-30T19:27:40.232761Z",
     "iopub.status.idle": "2023-05-30T19:27:44.661889Z",
     "shell.execute_reply": "2023-05-30T19:27:44.660980Z"
    },
    "id": "XwKAgxp1DNjl",
    "papermill": {
     "duration": 4.448684,
     "end_time": "2023-05-30T19:27:44.664427",
     "exception": false,
     "start_time": "2023-05-30T19:27:40.215743",
     "status": "completed"
    },
    "tags": []
   },
   "outputs": [],
   "source": [
    "\n",
    "import os\n",
    "import re\n",
    "\n",
    "import IPython.display as ipd\n",
    "import librosa\n",
    "import librosa.display\n",
    "\n",
    "import torch\n",
    "import torchaudio\n",
    "import torchaudio.functional as F\n",
    "import torchaudio.transforms as T\n",
    "\n",
    "import matplotlib.pyplot as plt\n"
   ]
  },
  {
   "cell_type": "code",
   "execution_count": 6,
   "id": "26ebe06a",
   "metadata": {
    "execution": {
     "iopub.execute_input": "2023-05-30T19:27:44.701823Z",
     "iopub.status.busy": "2023-05-30T19:27:44.700553Z",
     "iopub.status.idle": "2023-05-30T19:27:44.705819Z",
     "shell.execute_reply": "2023-05-30T19:27:44.704989Z"
    },
    "id": "REcPDTZ0DNjl",
    "papermill": {
     "duration": 0.025594,
     "end_time": "2023-05-30T19:27:44.707932",
     "exception": false,
     "start_time": "2023-05-30T19:27:44.682338",
     "status": "completed"
    },
    "tags": []
   },
   "outputs": [],
   "source": [
    "\n",
    "# !pip install torch torchvision torchaudio -f https://download.pytorch.org/whl/cu111/torch_stable.html\n"
   ]
  },
  {
   "cell_type": "code",
   "execution_count": 7,
   "id": "2823d0e2",
   "metadata": {
    "execution": {
     "iopub.execute_input": "2023-05-30T19:27:44.742259Z",
     "iopub.status.busy": "2023-05-30T19:27:44.741298Z",
     "iopub.status.idle": "2023-05-30T19:27:44.847243Z",
     "shell.execute_reply": "2023-05-30T19:27:44.846386Z"
    },
    "id": "ph7Ts036DNjm",
    "outputId": "8f9c9057-378a-4190-b99c-02a3a94cd4f3",
    "papermill": {
     "duration": 0.125726,
     "end_time": "2023-05-30T19:27:44.849731",
     "exception": false,
     "start_time": "2023-05-30T19:27:44.724005",
     "status": "completed"
    },
    "tags": []
   },
   "outputs": [
    {
     "data": {
      "text/plain": [
       "True"
      ]
     },
     "execution_count": 7,
     "metadata": {},
     "output_type": "execute_result"
    }
   ],
   "source": [
    "torch.cuda.is_available()"
   ]
  },
  {
   "cell_type": "code",
   "execution_count": 8,
   "id": "da5371d8",
   "metadata": {
    "execution": {
     "iopub.execute_input": "2023-05-30T19:27:44.882441Z",
     "iopub.status.busy": "2023-05-30T19:27:44.882106Z",
     "iopub.status.idle": "2023-05-30T19:27:44.913645Z",
     "shell.execute_reply": "2023-05-30T19:27:44.912259Z"
    },
    "id": "4fgaFGLhDNjm",
    "outputId": "152dfc14-9960-4e48-fdab-cd634be6a33b",
    "papermill": {
     "duration": 0.050411,
     "end_time": "2023-05-30T19:27:44.916138",
     "exception": false,
     "start_time": "2023-05-30T19:27:44.865727",
     "status": "completed"
    },
    "tags": []
   },
   "outputs": [
    {
     "data": {
      "text/plain": [
       "'Tesla T4'"
      ]
     },
     "execution_count": 8,
     "metadata": {},
     "output_type": "execute_result"
    }
   ],
   "source": [
    "torch.cuda.get_device_name()"
   ]
  },
  {
   "cell_type": "code",
   "execution_count": 9,
   "id": "26bc4605",
   "metadata": {
    "execution": {
     "iopub.execute_input": "2023-05-30T19:27:44.950823Z",
     "iopub.status.busy": "2023-05-30T19:27:44.949866Z",
     "iopub.status.idle": "2023-05-30T19:27:44.956901Z",
     "shell.execute_reply": "2023-05-30T19:27:44.955973Z"
    },
    "id": "Np_QeC7ADNjn",
    "outputId": "9b6f5fc2-6d41-45eb-e45a-f315f1b5f1a8",
    "papermill": {
     "duration": 0.026043,
     "end_time": "2023-05-30T19:27:44.958910",
     "exception": false,
     "start_time": "2023-05-30T19:27:44.932867",
     "status": "completed"
    },
    "tags": []
   },
   "outputs": [
    {
     "data": {
      "text/plain": [
       "0"
      ]
     },
     "execution_count": 9,
     "metadata": {},
     "output_type": "execute_result"
    }
   ],
   "source": [
    "torch.cuda.memory_reserved()"
   ]
  },
  {
   "cell_type": "code",
   "execution_count": 10,
   "id": "ce690adf",
   "metadata": {
    "execution": {
     "iopub.execute_input": "2023-05-30T19:27:44.993675Z",
     "iopub.status.busy": "2023-05-30T19:27:44.992777Z",
     "iopub.status.idle": "2023-05-30T19:27:45.001728Z",
     "shell.execute_reply": "2023-05-30T19:27:45.000736Z"
    },
    "id": "qra9qNOaDNjn",
    "outputId": "ab5cdde7-57cd-47d8-e2a3-e21e95e2f7fb",
    "papermill": {
     "duration": 0.028832,
     "end_time": "2023-05-30T19:27:45.003835",
     "exception": false,
     "start_time": "2023-05-30T19:27:44.975003",
     "status": "completed"
    },
    "tags": []
   },
   "outputs": [
    {
     "data": {
      "text/plain": [
       "0"
      ]
     },
     "execution_count": 10,
     "metadata": {},
     "output_type": "execute_result"
    }
   ],
   "source": [
    "torch.cuda.memory_allocated()"
   ]
  },
  {
   "cell_type": "code",
   "execution_count": 11,
   "id": "b345b057",
   "metadata": {
    "execution": {
     "iopub.execute_input": "2023-05-30T19:27:45.040430Z",
     "iopub.status.busy": "2023-05-30T19:27:45.039457Z",
     "iopub.status.idle": "2023-05-30T19:28:15.671958Z",
     "shell.execute_reply": "2023-05-30T19:28:15.670747Z"
    },
    "papermill": {
     "duration": 30.653805,
     "end_time": "2023-05-30T19:28:15.674476",
     "exception": false,
     "start_time": "2023-05-30T19:27:45.020671",
     "status": "completed"
    },
    "tags": []
   },
   "outputs": [
    {
     "name": "stdout",
     "output_type": "stream",
     "text": [
      "Collecting deep_phonemizer\r\n",
      "  Downloading deep-phonemizer-0.0.19.tar.gz (29 kB)\r\n",
      "  Preparing metadata (setup.py) ... \u001b[?25l-\b \b\\\b \bdone\r\n",
      "\u001b[?25hRequirement already satisfied: torch>=1.2.0 in /opt/conda/lib/python3.10/site-packages (from deep_phonemizer) (2.0.0)\r\n",
      "Requirement already satisfied: tqdm>=4.38.0 in /opt/conda/lib/python3.10/site-packages (from deep_phonemizer) (4.64.1)\r\n",
      "Requirement already satisfied: PyYAML>=5.1 in /opt/conda/lib/python3.10/site-packages (from deep_phonemizer) (5.4.1)\r\n",
      "Requirement already satisfied: tensorboard in /opt/conda/lib/python3.10/site-packages (from deep_phonemizer) (2.12.3)\r\n",
      "Requirement already satisfied: certifi>=2022.12.7 in /opt/conda/lib/python3.10/site-packages (from deep_phonemizer) (2023.5.7)\r\n",
      "Requirement already satisfied: wheel>=0.38.0 in /opt/conda/lib/python3.10/site-packages (from deep_phonemizer) (0.40.0)\r\n",
      "Collecting setuptools>=65.5.1 (from deep_phonemizer)\r\n",
      "  Downloading setuptools-67.8.0-py3-none-any.whl (1.1 MB)\r\n",
      "\u001b[2K     \u001b[90m━━━━━━━━━━━━━━━━━━━━━━━━━━━━━━━━━━━━━━━━\u001b[0m \u001b[32m1.1/1.1 MB\u001b[0m \u001b[31m17.5 MB/s\u001b[0m eta \u001b[36m0:00:00\u001b[0m\r\n",
      "\u001b[?25hRequirement already satisfied: filelock in /opt/conda/lib/python3.10/site-packages (from torch>=1.2.0->deep_phonemizer) (3.12.0)\r\n",
      "Requirement already satisfied: typing-extensions in /opt/conda/lib/python3.10/site-packages (from torch>=1.2.0->deep_phonemizer) (4.5.0)\r\n",
      "Requirement already satisfied: sympy in /opt/conda/lib/python3.10/site-packages (from torch>=1.2.0->deep_phonemizer) (1.12)\r\n",
      "Requirement already satisfied: networkx in /opt/conda/lib/python3.10/site-packages (from torch>=1.2.0->deep_phonemizer) (3.1)\r\n",
      "Requirement already satisfied: jinja2 in /opt/conda/lib/python3.10/site-packages (from torch>=1.2.0->deep_phonemizer) (3.1.2)\r\n",
      "Requirement already satisfied: absl-py>=0.4 in /opt/conda/lib/python3.10/site-packages (from tensorboard->deep_phonemizer) (1.4.0)\r\n",
      "Requirement already satisfied: grpcio>=1.48.2 in /opt/conda/lib/python3.10/site-packages (from tensorboard->deep_phonemizer) (1.51.1)\r\n",
      "Requirement already satisfied: google-auth<3,>=1.6.3 in /opt/conda/lib/python3.10/site-packages (from tensorboard->deep_phonemizer) (2.17.3)\r\n",
      "Requirement already satisfied: google-auth-oauthlib<1.1,>=0.5 in /opt/conda/lib/python3.10/site-packages (from tensorboard->deep_phonemizer) (1.0.0)\r\n",
      "Requirement already satisfied: markdown>=2.6.8 in /opt/conda/lib/python3.10/site-packages (from tensorboard->deep_phonemizer) (3.4.3)\r\n",
      "Requirement already satisfied: numpy>=1.12.0 in /opt/conda/lib/python3.10/site-packages (from tensorboard->deep_phonemizer) (1.23.5)\r\n",
      "Requirement already satisfied: protobuf>=3.19.6 in /opt/conda/lib/python3.10/site-packages (from tensorboard->deep_phonemizer) (3.20.3)\r\n",
      "Requirement already satisfied: requests<3,>=2.21.0 in /opt/conda/lib/python3.10/site-packages (from tensorboard->deep_phonemizer) (2.28.2)\r\n",
      "Requirement already satisfied: tensorboard-data-server<0.8.0,>=0.7.0 in /opt/conda/lib/python3.10/site-packages (from tensorboard->deep_phonemizer) (0.7.0)\r\n",
      "Requirement already satisfied: werkzeug>=1.0.1 in /opt/conda/lib/python3.10/site-packages (from tensorboard->deep_phonemizer) (2.3.4)\r\n",
      "Requirement already satisfied: cachetools<6.0,>=2.0.0 in /opt/conda/lib/python3.10/site-packages (from google-auth<3,>=1.6.3->tensorboard->deep_phonemizer) (4.2.4)\r\n",
      "Requirement already satisfied: pyasn1-modules>=0.2.1 in /opt/conda/lib/python3.10/site-packages (from google-auth<3,>=1.6.3->tensorboard->deep_phonemizer) (0.2.7)\r\n",
      "Requirement already satisfied: six>=1.9.0 in /opt/conda/lib/python3.10/site-packages (from google-auth<3,>=1.6.3->tensorboard->deep_phonemizer) (1.16.0)\r\n",
      "Requirement already satisfied: rsa<5,>=3.1.4 in /opt/conda/lib/python3.10/site-packages (from google-auth<3,>=1.6.3->tensorboard->deep_phonemizer) (4.9)\r\n",
      "Requirement already satisfied: requests-oauthlib>=0.7.0 in /opt/conda/lib/python3.10/site-packages (from google-auth-oauthlib<1.1,>=0.5->tensorboard->deep_phonemizer) (1.3.1)\r\n",
      "Requirement already satisfied: charset-normalizer<4,>=2 in /opt/conda/lib/python3.10/site-packages (from requests<3,>=2.21.0->tensorboard->deep_phonemizer) (2.1.1)\r\n",
      "Requirement already satisfied: idna<4,>=2.5 in /opt/conda/lib/python3.10/site-packages (from requests<3,>=2.21.0->tensorboard->deep_phonemizer) (3.4)\r\n",
      "Requirement already satisfied: urllib3<1.27,>=1.21.1 in /opt/conda/lib/python3.10/site-packages (from requests<3,>=2.21.0->tensorboard->deep_phonemizer) (1.26.15)\r\n",
      "Requirement already satisfied: MarkupSafe>=2.1.1 in /opt/conda/lib/python3.10/site-packages (from werkzeug>=1.0.1->tensorboard->deep_phonemizer) (2.1.2)\r\n",
      "Requirement already satisfied: mpmath>=0.19 in /opt/conda/lib/python3.10/site-packages (from sympy->torch>=1.2.0->deep_phonemizer) (1.3.0)\r\n",
      "Requirement already satisfied: pyasn1<0.5.0,>=0.4.6 in /opt/conda/lib/python3.10/site-packages (from pyasn1-modules>=0.2.1->google-auth<3,>=1.6.3->tensorboard->deep_phonemizer) (0.4.8)\r\n",
      "Requirement already satisfied: oauthlib>=3.0.0 in /opt/conda/lib/python3.10/site-packages (from requests-oauthlib>=0.7.0->google-auth-oauthlib<1.1,>=0.5->tensorboard->deep_phonemizer) (3.2.2)\r\n",
      "Building wheels for collected packages: deep_phonemizer\r\n",
      "  Building wheel for deep_phonemizer (setup.py) ... \u001b[?25l-\b \b\\\b \b|\b \b/\b \bdone\r\n",
      "\u001b[?25h  Created wheel for deep_phonemizer: filename=deep_phonemizer-0.0.19-py3-none-any.whl size=33299 sha256=c01aa085a0c51acdbb84dfa30d156f96973848279489eaa787c29a1999157860\r\n",
      "  Stored in directory: /root/.cache/pip/wheels/c7/61/da/39b050eea5710fe32b1521b79de4a74d95896581230d30a37b\r\n",
      "Successfully built deep_phonemizer\r\n",
      "Installing collected packages: setuptools, deep_phonemizer\r\n",
      "  Attempting uninstall: setuptools\r\n",
      "    Found existing installation: setuptools 59.8.0\r\n",
      "    Uninstalling setuptools-59.8.0:\r\n",
      "      Successfully uninstalled setuptools-59.8.0\r\n",
      "\u001b[31mERROR: pip's dependency resolver does not currently take into account all the packages that are installed. This behaviour is the source of the following dependency conflicts.\r\n",
      "momepy 0.6.0 requires shapely>=2, but you have shapely 1.8.5.post1 which is incompatible.\r\n",
      "opentelemetry-api 1.17.0 requires importlib-metadata~=6.0.0, but you have importlib-metadata 5.2.0 which is incompatible.\r\n",
      "pymc3 3.11.5 requires numpy<1.22.2,>=1.15.0, but you have numpy 1.23.5 which is incompatible.\r\n",
      "pymc3 3.11.5 requires scipy<1.8.0,>=1.7.3, but you have scipy 1.10.1 which is incompatible.\r\n",
      "raft-dask 23.4.1 requires dask==2023.3.2, but you have dask 2023.5.0 which is incompatible.\u001b[0m\u001b[31m\r\n",
      "\u001b[0mSuccessfully installed deep_phonemizer-0.0.19 setuptools-67.8.0\r\n",
      "\u001b[33mWARNING: Running pip as the 'root' user can result in broken permissions and conflicting behaviour with the system package manager. It is recommended to use a virtual environment instead: https://pip.pypa.io/warnings/venv\u001b[0m\u001b[33m\r\n",
      "\u001b[0m"
     ]
    }
   ],
   "source": [
    "!pip3 install deep_phonemizer"
   ]
  },
  {
   "cell_type": "code",
   "execution_count": 12,
   "id": "9356df72",
   "metadata": {
    "execution": {
     "iopub.execute_input": "2023-05-30T19:28:15.711295Z",
     "iopub.status.busy": "2023-05-30T19:28:15.710925Z",
     "iopub.status.idle": "2023-05-30T19:28:45.615589Z",
     "shell.execute_reply": "2023-05-30T19:28:45.614624Z"
    },
    "id": "I-RVbZ-9DNjn",
    "outputId": "6270fab0-84fa-4f8c-9c75-2f5f5394f48f",
    "papermill": {
     "duration": 29.925932,
     "end_time": "2023-05-30T19:28:45.618267",
     "exception": false,
     "start_time": "2023-05-30T19:28:15.692335",
     "status": "completed"
    },
    "tags": []
   },
   "outputs": [
    {
     "name": "stderr",
     "output_type": "stream",
     "text": [
      "/tmp/ipykernel_23/2454150262.py:19: UserWarning: To copy construct from a tensor, it is recommended to use sourceTensor.clone().detach() or sourceTensor.clone().detach().requires_grad_(True), rather than torch.tensor(sourceTensor).\n",
      "  waveform = torch.tensor(waveform)\n",
      "/opt/conda/lib/python3.10/site-packages/torchaudio/transforms/_transforms.py:611: UserWarning: Argument 'onesided' has been deprecated and has no influence on the behavior of this module.\n",
      "  warnings.warn(\n"
     ]
    }
   ],
   "source": [
    "\n",
    "import os\n",
    "import re\n",
    "\n",
    "\n",
    "\n",
    "\n",
    "dir_path = \"/kaggle/input/trump-voice-deepfake/full_wavs1\"\n",
    "paths = os.listdir(dir_path)\n",
    "paths = sorted(paths, key=lambda s: int(re.search(r'\\d+', s).group()))\n",
    "\n",
    "\n",
    "def audio_preprocessing(audio_file_path):\n",
    "    \n",
    "    metadata = torchaudio.info(audio_file_path)\n",
    "    waveform,sample_rate = torchaudio.load(audio_file_path)\n",
    "    # waveform,sample_rate = librosa.load(audio_file_path,sr=None)\n",
    "    waveform = waveform.mean(dim=0)\n",
    "   \n",
    "    waveform = torch.tensor(waveform)\n",
    "    n_fft = 1024\n",
    "    win_length = None\n",
    "    hop_length = 512\n",
    "    n_mels = 80\n",
    "\n",
    "    mel_spectrogram = T.MelSpectrogram(\n",
    "        sample_rate=sample_rate,\n",
    "        n_fft=n_fft,\n",
    "        win_length=win_length,\n",
    "        hop_length=hop_length,\n",
    "        center=True,\n",
    "        pad_mode=\"reflect\",\n",
    "        power=2.0,\n",
    "        norm=\"slaney\",\n",
    "        onesided=True,\n",
    "        n_mels=n_mels,\n",
    "        mel_scale=\"htk\",\n",
    "    )\n",
    "    melspec = mel_spectrogram(waveform)\n",
    "\n",
    "    return waveform,sample_rate,melspec\n",
    "\n",
    "\n",
    "melspecs = []\n",
    "melspec_lengths =[]\n",
    "melspec_times = []\n",
    "\n",
    "for idx,path in enumerate(paths):\n",
    "    audio_file_path = os.path.join(dir_path,path)\n",
    "    waveform,sample_rate,melspec = audio_preprocessing(audio_file_path)\n",
    "    melspecs.append(melspec)\n",
    "    melspec_lengths.append(torch.tensor(melspec.shape[1]))\n",
    "    \n",
    "\n",
    "    \n",
    "\n"
   ]
  },
  {
   "cell_type": "code",
   "execution_count": 13,
   "id": "9ed3389c",
   "metadata": {
    "execution": {
     "iopub.execute_input": "2023-05-30T19:28:45.656728Z",
     "iopub.status.busy": "2023-05-30T19:28:45.656398Z",
     "iopub.status.idle": "2023-05-30T19:28:53.433993Z",
     "shell.execute_reply": "2023-05-30T19:28:53.433006Z"
    },
    "papermill": {
     "duration": 7.799681,
     "end_time": "2023-05-30T19:28:53.436836",
     "exception": false,
     "start_time": "2023-05-30T19:28:45.637155",
     "status": "completed"
    },
    "tags": []
   },
   "outputs": [
    {
     "name": "stderr",
     "output_type": "stream",
     "text": [
      "100%|██████████| 63.6M/63.6M [00:03<00:00, 21.3MB/s]\n"
     ]
    }
   ],
   "source": [
    "\n",
    "dir_path = \"/kaggle/input/trump-voice-deepfake/full_wavs_text\"\n",
    "paths = os.listdir(dir_path)\n",
    "paths = sorted(paths, key=lambda s: int(re.search(r'\\d+', s).group()))\n",
    "bundle = torchaudio.pipelines.TACOTRON2_WAVERNN_PHONE_LJSPEECH\n",
    "\n",
    "processor = bundle.get_text_processor()\n",
    "\n",
    "text_tensors = []\n",
    "text_lengths  =[]\n",
    "with torch.inference_mode():\n",
    "    for path in paths:\n",
    "        text_file_path = os.path.join(dir_path,path)\n",
    "        file = open(text_file_path,'r')\n",
    "        text = file.read()\n",
    "        processed, lengths = processor(text)\n",
    "        text_tensors.append(processed)\n",
    "        text_lengths.append(lengths)"
   ]
  },
  {
   "cell_type": "code",
   "execution_count": 14,
   "id": "3b061e34",
   "metadata": {
    "execution": {
     "iopub.execute_input": "2023-05-30T19:28:53.480653Z",
     "iopub.status.busy": "2023-05-30T19:28:53.479790Z",
     "iopub.status.idle": "2023-05-30T19:28:53.486187Z",
     "shell.execute_reply": "2023-05-30T19:28:53.485285Z"
    },
    "id": "tQI9ZpJ0DNjo",
    "papermill": {
     "duration": 0.030215,
     "end_time": "2023-05-30T19:28:53.488559",
     "exception": false,
     "start_time": "2023-05-30T19:28:53.458344",
     "status": "completed"
    },
    "tags": []
   },
   "outputs": [],
   "source": [
    "\n",
    "melspec_lengths = torch.stack(melspec_lengths)\n"
   ]
  },
  {
   "cell_type": "code",
   "execution_count": 15,
   "id": "40122607",
   "metadata": {
    "execution": {
     "iopub.execute_input": "2023-05-30T19:28:53.533452Z",
     "iopub.status.busy": "2023-05-30T19:28:53.531798Z",
     "iopub.status.idle": "2023-05-30T19:28:53.538074Z",
     "shell.execute_reply": "2023-05-30T19:28:53.537201Z"
    },
    "id": "3YT1Pkp4DNjo",
    "outputId": "65f58ddd-1c80-49a6-de32-aa034cf3f970",
    "papermill": {
     "duration": 0.030769,
     "end_time": "2023-05-30T19:28:53.540158",
     "exception": false,
     "start_time": "2023-05-30T19:28:53.509389",
     "status": "completed"
    },
    "tags": []
   },
   "outputs": [],
   "source": [
    "melspec_lengths = melspec_lengths.squeeze()\n"
   ]
  },
  {
   "cell_type": "code",
   "execution_count": 16,
   "id": "45a964fe",
   "metadata": {
    "execution": {
     "iopub.execute_input": "2023-05-30T19:28:53.584370Z",
     "iopub.status.busy": "2023-05-30T19:28:53.584045Z",
     "iopub.status.idle": "2023-05-30T19:28:53.590476Z",
     "shell.execute_reply": "2023-05-30T19:28:53.589636Z"
    },
    "papermill": {
     "duration": 0.031053,
     "end_time": "2023-05-30T19:28:53.592628",
     "exception": false,
     "start_time": "2023-05-30T19:28:53.561575",
     "status": "completed"
    },
    "tags": []
   },
   "outputs": [],
   "source": [
    "text_lengths  =torch.stack(text_lengths)"
   ]
  },
  {
   "cell_type": "code",
   "execution_count": 17,
   "id": "62ed8db1",
   "metadata": {
    "execution": {
     "iopub.execute_input": "2023-05-30T19:28:53.635673Z",
     "iopub.status.busy": "2023-05-30T19:28:53.635308Z",
     "iopub.status.idle": "2023-05-30T19:28:53.640672Z",
     "shell.execute_reply": "2023-05-30T19:28:53.639636Z"
    },
    "papermill": {
     "duration": 0.029309,
     "end_time": "2023-05-30T19:28:53.642924",
     "exception": false,
     "start_time": "2023-05-30T19:28:53.613615",
     "status": "completed"
    },
    "tags": []
   },
   "outputs": [],
   "source": [
    "text_lengths = text_lengths.squeeze()"
   ]
  },
  {
   "cell_type": "code",
   "execution_count": 18,
   "id": "1d9efdf8",
   "metadata": {
    "execution": {
     "iopub.execute_input": "2023-05-30T19:28:53.685052Z",
     "iopub.status.busy": "2023-05-30T19:28:53.684699Z",
     "iopub.status.idle": "2023-05-30T19:28:53.688609Z",
     "shell.execute_reply": "2023-05-30T19:28:53.687747Z"
    },
    "papermill": {
     "duration": 0.027259,
     "end_time": "2023-05-30T19:28:53.690620",
     "exception": false,
     "start_time": "2023-05-30T19:28:53.663361",
     "status": "completed"
    },
    "tags": []
   },
   "outputs": [],
   "source": [
    "# text_indices = torch.argsort(text_lengths,dim=0)/"
   ]
  },
  {
   "cell_type": "code",
   "execution_count": 19,
   "id": "5f78c322",
   "metadata": {
    "execution": {
     "iopub.execute_input": "2023-05-30T19:28:53.734258Z",
     "iopub.status.busy": "2023-05-30T19:28:53.733803Z",
     "iopub.status.idle": "2023-05-30T19:28:55.466848Z",
     "shell.execute_reply": "2023-05-30T19:28:55.465935Z"
    },
    "id": "5R0yUBYjDNjo",
    "outputId": "f5c9a323-3570-48c9-bcde-54150d9ec059",
    "papermill": {
     "duration": 1.757918,
     "end_time": "2023-05-30T19:28:55.469304",
     "exception": false,
     "start_time": "2023-05-30T19:28:53.711386",
     "status": "completed"
    },
    "tags": []
   },
   "outputs": [
    {
     "data": {
      "text/plain": [
       "torch.Size([598, 80, 5676])"
      ]
     },
     "execution_count": 19,
     "metadata": {},
     "output_type": "execute_result"
    }
   ],
   "source": [
    "for idx,tensor in enumerate(melspecs):\n",
    "    padding_req = melspec_lengths.max()-tensor.shape[1]\n",
    "    padded_tensor = torch.nn.functional.pad(tensor,(0,padding_req,0,0),mode='constant',value=0)\n",
    "    melspecs[idx] = padded_tensor\n",
    "\n",
    "melspecs = torch.stack(melspecs)\n",
    "melspecs.shape"
   ]
  },
  {
   "cell_type": "code",
   "execution_count": 20,
   "id": "37fff4f6",
   "metadata": {
    "execution": {
     "iopub.execute_input": "2023-05-30T19:28:55.513826Z",
     "iopub.status.busy": "2023-05-30T19:28:55.512841Z",
     "iopub.status.idle": "2023-05-30T19:28:55.518061Z",
     "shell.execute_reply": "2023-05-30T19:28:55.517016Z"
    },
    "id": "rqqXp32rDNjo",
    "papermill": {
     "duration": 0.030016,
     "end_time": "2023-05-30T19:28:55.520663",
     "exception": false,
     "start_time": "2023-05-30T19:28:55.490647",
     "status": "completed"
    },
    "tags": []
   },
   "outputs": [],
   "source": [
    "melspecs = melspecs.squeeze()"
   ]
  },
  {
   "cell_type": "code",
   "execution_count": 21,
   "id": "f4c51c0a",
   "metadata": {
    "execution": {
     "iopub.execute_input": "2023-05-30T19:28:55.564446Z",
     "iopub.status.busy": "2023-05-30T19:28:55.564118Z",
     "iopub.status.idle": "2023-05-30T19:28:55.570161Z",
     "shell.execute_reply": "2023-05-30T19:28:55.569258Z"
    },
    "id": "An3yNr0r6eL7",
    "outputId": "1446ac67-b36d-4418-eb53-304c05e81c6c",
    "papermill": {
     "duration": 0.030565,
     "end_time": "2023-05-30T19:28:55.572264",
     "exception": false,
     "start_time": "2023-05-30T19:28:55.541699",
     "status": "completed"
    },
    "tags": []
   },
   "outputs": [
    {
     "data": {
      "text/plain": [
       "torch.Size([598, 80, 5676])"
      ]
     },
     "execution_count": 21,
     "metadata": {},
     "output_type": "execute_result"
    }
   ],
   "source": [
    "\n",
    "\n",
    "melspecs.shape"
   ]
  },
  {
   "cell_type": "code",
   "execution_count": 22,
   "id": "47635e6c",
   "metadata": {
    "execution": {
     "iopub.execute_input": "2023-05-30T19:28:55.615146Z",
     "iopub.status.busy": "2023-05-30T19:28:55.614786Z",
     "iopub.status.idle": "2023-05-30T19:28:55.621517Z",
     "shell.execute_reply": "2023-05-30T19:28:55.620599Z"
    },
    "id": "HzpNQ9DaDNjp",
    "papermill": {
     "duration": 0.030576,
     "end_time": "2023-05-30T19:28:55.623706",
     "exception": false,
     "start_time": "2023-05-30T19:28:55.593130",
     "status": "completed"
    },
    "tags": []
   },
   "outputs": [],
   "source": [
    "symbols = \"_-!'(),.:;? abcdefghijklmnopqrstuvwxyz\"\n",
    "\n",
    "look_up = {s: i for i, s in enumerate(symbols)}\n",
    "symbols = set(symbols)\n",
    "\n",
    "\n",
    "def text_to_sequence(text):\n",
    "    text = text.lower()\n",
    "    return [look_up[s] for s in text if s in symbols]\n"
   ]
  },
  {
   "cell_type": "code",
   "execution_count": 23,
   "id": "88c6ab66",
   "metadata": {
    "execution": {
     "iopub.execute_input": "2023-05-30T19:28:55.666457Z",
     "iopub.status.busy": "2023-05-30T19:28:55.666134Z",
     "iopub.status.idle": "2023-05-30T19:28:55.670306Z",
     "shell.execute_reply": "2023-05-30T19:28:55.669322Z"
    },
    "id": "WFzut4hXYuYR",
    "outputId": "03c83282-b83c-4cbb-d85e-a116552c3aca",
    "papermill": {
     "duration": 0.0284,
     "end_time": "2023-05-30T19:28:55.672784",
     "exception": false,
     "start_time": "2023-05-30T19:28:55.644384",
     "status": "completed"
    },
    "tags": []
   },
   "outputs": [],
   "source": [
    "# !pip3 install deep_phonemizer"
   ]
  },
  {
   "cell_type": "markdown",
   "id": "604ccc85",
   "metadata": {
    "id": "_4CEDQ9f_C8T",
    "papermill": {
     "duration": 0.020187,
     "end_time": "2023-05-30T19:28:55.714003",
     "exception": false,
     "start_time": "2023-05-30T19:28:55.693816",
     "status": "completed"
    },
    "tags": []
   },
   "source": []
  },
  {
   "cell_type": "code",
   "execution_count": 24,
   "id": "6d4bd3ea",
   "metadata": {
    "execution": {
     "iopub.execute_input": "2023-05-30T19:28:55.757835Z",
     "iopub.status.busy": "2023-05-30T19:28:55.757471Z",
     "iopub.status.idle": "2023-05-30T19:28:57.494971Z",
     "shell.execute_reply": "2023-05-30T19:28:57.493887Z"
    },
    "id": "_pXe10yBDNjp",
    "papermill": {
     "duration": 1.762689,
     "end_time": "2023-05-30T19:28:57.497792",
     "exception": false,
     "start_time": "2023-05-30T19:28:55.735103",
     "status": "completed"
    },
    "tags": []
   },
   "outputs": [],
   "source": [
    "\n",
    "# padding the Tensors to the max_length tensor\n",
    "for idx,tensor in enumerate(text_tensors):\n",
    "    padding_req = max(text_lengths)-tensor.shape[1]\n",
    "    padded_tensor = torch.nn.functional.pad(tensor,(0,padding_req,0,0),mode='constant',value=0)\n",
    "    text_tensors[idx] = padded_tensor\n",
    "\n",
    "\n",
    "text_tensors = torch.stack(text_tensors)"
   ]
  },
  {
   "cell_type": "code",
   "execution_count": 25,
   "id": "59a4f051",
   "metadata": {
    "execution": {
     "iopub.execute_input": "2023-05-30T19:28:57.542276Z",
     "iopub.status.busy": "2023-05-30T19:28:57.541315Z",
     "iopub.status.idle": "2023-05-30T19:28:57.547698Z",
     "shell.execute_reply": "2023-05-30T19:28:57.546696Z"
    },
    "id": "7tPo2ePADNjp",
    "outputId": "3e7c4771-03f1-4cf9-d8ca-52a7ad81e44a",
    "papermill": {
     "duration": 0.030376,
     "end_time": "2023-05-30T19:28:57.549659",
     "exception": false,
     "start_time": "2023-05-30T19:28:57.519283",
     "status": "completed"
    },
    "tags": []
   },
   "outputs": [
    {
     "name": "stderr",
     "output_type": "stream",
     "text": [
      "/tmp/ipykernel_23/1352164243.py:1: UserWarning: To copy construct from a tensor, it is recommended to use sourceTensor.clone().detach() or sourceTensor.clone().detach().requires_grad_(True), rather than torch.tensor(sourceTensor).\n",
      "  text_tensors = torch.tensor(text_tensors,dtype=torch.int32)\n"
     ]
    }
   ],
   "source": [
    "\n",
    "text_tensors = torch.tensor(text_tensors,dtype=torch.int32)\n"
   ]
  },
  {
   "cell_type": "code",
   "execution_count": 26,
   "id": "cae08d0d",
   "metadata": {
    "execution": {
     "iopub.execute_input": "2023-05-30T19:28:57.592064Z",
     "iopub.status.busy": "2023-05-30T19:28:57.591252Z",
     "iopub.status.idle": "2023-05-30T19:28:57.596029Z",
     "shell.execute_reply": "2023-05-30T19:28:57.595108Z"
    },
    "id": "9OfV38AUDNjp",
    "papermill": {
     "duration": 0.028063,
     "end_time": "2023-05-30T19:28:57.597996",
     "exception": false,
     "start_time": "2023-05-30T19:28:57.569933",
     "status": "completed"
    },
    "tags": []
   },
   "outputs": [],
   "source": [
    "text_tensors = text_tensors.squeeze()\n"
   ]
  },
  {
   "cell_type": "code",
   "execution_count": 27,
   "id": "ff6c61fd",
   "metadata": {
    "execution": {
     "iopub.execute_input": "2023-05-30T19:28:57.640459Z",
     "iopub.status.busy": "2023-05-30T19:28:57.640146Z",
     "iopub.status.idle": "2023-05-30T19:28:57.650820Z",
     "shell.execute_reply": "2023-05-30T19:28:57.649970Z"
    },
    "papermill": {
     "duration": 0.034494,
     "end_time": "2023-05-30T19:28:57.652812",
     "exception": false,
     "start_time": "2023-05-30T19:28:57.618318",
     "status": "completed"
    },
    "tags": []
   },
   "outputs": [],
   "source": [
    "text_lengths,sort_indices = text_lengths.sort(0,descending=True)\n",
    "text_tensors= text_tensors[sort_indices]\n"
   ]
  },
  {
   "cell_type": "code",
   "execution_count": null,
   "id": "6164f2ab",
   "metadata": {
    "papermill": {
     "duration": 0.020767,
     "end_time": "2023-05-30T19:28:57.694532",
     "exception": false,
     "start_time": "2023-05-30T19:28:57.673765",
     "status": "completed"
    },
    "tags": []
   },
   "outputs": [],
   "source": []
  },
  {
   "cell_type": "code",
   "execution_count": 28,
   "id": "ecd72719",
   "metadata": {
    "execution": {
     "iopub.execute_input": "2023-05-30T19:28:57.738756Z",
     "iopub.status.busy": "2023-05-30T19:28:57.737840Z",
     "iopub.status.idle": "2023-05-30T19:28:57.746876Z",
     "shell.execute_reply": "2023-05-30T19:28:57.745973Z"
    },
    "papermill": {
     "duration": 0.033145,
     "end_time": "2023-05-30T19:28:57.748840",
     "exception": false,
     "start_time": "2023-05-30T19:28:57.715695",
     "status": "completed"
    },
    "tags": []
   },
   "outputs": [],
   "source": [
    "import torch.nn.utils.rnn as rnn_utils\n",
    "\n",
    "\n",
    "\n",
    "packed_text = rnn_utils.pack_padded_sequence(text_tensors, text_lengths, batch_first=True)\n",
    "# packed_mel_specs = rnn_utils.pack_padded_sequence(mel_specs, melspec-lengths, batch_first=True)"
   ]
  },
  {
   "cell_type": "code",
   "execution_count": 29,
   "id": "826d5505",
   "metadata": {
    "execution": {
     "iopub.execute_input": "2023-05-30T19:28:57.792297Z",
     "iopub.status.busy": "2023-05-30T19:28:57.791466Z",
     "iopub.status.idle": "2023-05-30T19:28:57.796192Z",
     "shell.execute_reply": "2023-05-30T19:28:57.795278Z"
    },
    "id": "xmRbEn1JDNjq",
    "papermill": {
     "duration": 0.028298,
     "end_time": "2023-05-30T19:28:57.798236",
     "exception": false,
     "start_time": "2023-05-30T19:28:57.769938",
     "status": "completed"
    },
    "tags": []
   },
   "outputs": [],
   "source": [
    "from torch.utils.data import DataLoader\n",
    "\n"
   ]
  },
  {
   "cell_type": "code",
   "execution_count": 30,
   "id": "e946e2d5",
   "metadata": {
    "execution": {
     "iopub.execute_input": "2023-05-30T19:28:57.841325Z",
     "iopub.status.busy": "2023-05-30T19:28:57.841014Z",
     "iopub.status.idle": "2023-05-30T19:28:59.689995Z",
     "shell.execute_reply": "2023-05-30T19:28:59.689065Z"
    },
    "id": "VtSiOPjWDNjq",
    "papermill": {
     "duration": 1.872796,
     "end_time": "2023-05-30T19:28:59.692337",
     "exception": false,
     "start_time": "2023-05-30T19:28:57.819541",
     "status": "completed"
    },
    "tags": []
   },
   "outputs": [],
   "source": [
    "from sklearn.model_selection import train_test_split\n",
    "mel_train,mel_test,mel_length_train,mel_length_test,text_train,text_test,text_length_train,text_length_test  =train_test_split(melspecs,\n",
    "                                                                        melspec_lengths,\n",
    "                                                                       text_tensors,text_lengths,\n",
    "                                                            test_size=0.3, random_state=42            )\n"
   ]
  },
  {
   "cell_type": "code",
   "execution_count": 31,
   "id": "2a527f5f",
   "metadata": {
    "execution": {
     "iopub.execute_input": "2023-05-30T19:28:59.735609Z",
     "iopub.status.busy": "2023-05-30T19:28:59.734529Z",
     "iopub.status.idle": "2023-05-30T19:28:59.739613Z",
     "shell.execute_reply": "2023-05-30T19:28:59.738805Z"
    },
    "id": "yx8McS-z60Ld",
    "papermill": {
     "duration": 0.02874,
     "end_time": "2023-05-30T19:28:59.741594",
     "exception": false,
     "start_time": "2023-05-30T19:28:59.712854",
     "status": "completed"
    },
    "tags": []
   },
   "outputs": [],
   "source": [
    "batch =5\n",
    "learning_rate = 0.001\n",
    "epochs =5"
   ]
  },
  {
   "cell_type": "code",
   "execution_count": 32,
   "id": "e3a98207",
   "metadata": {
    "execution": {
     "iopub.execute_input": "2023-05-30T19:28:59.784145Z",
     "iopub.status.busy": "2023-05-30T19:28:59.783365Z",
     "iopub.status.idle": "2023-05-30T19:28:59.790261Z",
     "shell.execute_reply": "2023-05-30T19:28:59.789370Z"
    },
    "id": "4pUbj0G8DNjq",
    "papermill": {
     "duration": 0.030263,
     "end_time": "2023-05-30T19:28:59.792494",
     "exception": false,
     "start_time": "2023-05-30T19:28:59.762231",
     "status": "completed"
    },
    "tags": []
   },
   "outputs": [],
   "source": [
    "mel_train_data = DataLoader(mel_train,batch_size=batch) # tenosrs of Shape [80,28680]\n",
    "\n",
    "mel_length_train_data = DataLoader(mel_length_train,batch_size=batch) # Tensors of shape [,2]\n",
    "\n",
    "text_train_data  =DataLoader(text_train, batch)\n",
    "text_length_train_data = DataLoader(text_length_train,batch_size=batch)"
   ]
  },
  {
   "cell_type": "code",
   "execution_count": 33,
   "id": "930ae9b4",
   "metadata": {
    "execution": {
     "iopub.execute_input": "2023-05-30T19:28:59.835926Z",
     "iopub.status.busy": "2023-05-30T19:28:59.835562Z",
     "iopub.status.idle": "2023-05-30T19:28:59.840829Z",
     "shell.execute_reply": "2023-05-30T19:28:59.840010Z"
    },
    "id": "y6z8fJXdDNjr",
    "papermill": {
     "duration": 0.029179,
     "end_time": "2023-05-30T19:28:59.842906",
     "exception": false,
     "start_time": "2023-05-30T19:28:59.813727",
     "status": "completed"
    },
    "tags": []
   },
   "outputs": [],
   "source": [
    "mel_test_data = DataLoader(mel_test,batch_size=batch) # tenosrs of Shape [80,28680]\n",
    "\n",
    "mel_length_test_data = DataLoader(mel_length_test,batch_size=batch) # Tensors of shape [,2]\n",
    "\n",
    "text_test_data  =DataLoader(text_test, batch_size=batch)\n",
    "text_length_test_data = DataLoader(text_length_test,batch_size=batch)"
   ]
  },
  {
   "cell_type": "markdown",
   "id": "1e255ebc",
   "metadata": {
    "id": "a3g_B9hZDNjr",
    "papermill": {
     "duration": 0.020525,
     "end_time": "2023-05-30T19:28:59.884568",
     "exception": false,
     "start_time": "2023-05-30T19:28:59.864043",
     "status": "completed"
    },
    "tags": []
   },
   "source": [
    "Setting Up The GPU Setting -- CUDA"
   ]
  },
  {
   "cell_type": "code",
   "execution_count": 34,
   "id": "ecfd2999",
   "metadata": {
    "execution": {
     "iopub.execute_input": "2023-05-30T19:28:59.927236Z",
     "iopub.status.busy": "2023-05-30T19:28:59.926882Z",
     "iopub.status.idle": "2023-05-30T19:28:59.931133Z",
     "shell.execute_reply": "2023-05-30T19:28:59.930173Z"
    },
    "papermill": {
     "duration": 0.027832,
     "end_time": "2023-05-30T19:28:59.933196",
     "exception": false,
     "start_time": "2023-05-30T19:28:59.905364",
     "status": "completed"
    },
    "tags": []
   },
   "outputs": [],
   "source": [
    "# from torch.nn.parallel import DataParallel"
   ]
  },
  {
   "cell_type": "code",
   "execution_count": 35,
   "id": "fd349dfa",
   "metadata": {
    "execution": {
     "iopub.execute_input": "2023-05-30T19:28:59.976277Z",
     "iopub.status.busy": "2023-05-30T19:28:59.975364Z",
     "iopub.status.idle": "2023-05-30T19:28:59.980310Z",
     "shell.execute_reply": "2023-05-30T19:28:59.979501Z"
    },
    "id": "EZm2v6ebbPzb",
    "papermill": {
     "duration": 0.028663,
     "end_time": "2023-05-30T19:28:59.982300",
     "exception": false,
     "start_time": "2023-05-30T19:28:59.953637",
     "status": "completed"
    },
    "tags": []
   },
   "outputs": [],
   "source": [
    "device = ('cuda' if torch.cuda.is_available() else 'cpu')"
   ]
  },
  {
   "cell_type": "code",
   "execution_count": 36,
   "id": "abea3fd4",
   "metadata": {
    "execution": {
     "iopub.execute_input": "2023-05-30T19:29:00.026229Z",
     "iopub.status.busy": "2023-05-30T19:29:00.024991Z",
     "iopub.status.idle": "2023-05-30T19:29:00.030735Z",
     "shell.execute_reply": "2023-05-30T19:29:00.029859Z"
    },
    "id": "S5iyu7gbDNjs",
    "papermill": {
     "duration": 0.030413,
     "end_time": "2023-05-30T19:29:00.032850",
     "exception": false,
     "start_time": "2023-05-30T19:29:00.002437",
     "status": "completed"
    },
    "tags": []
   },
   "outputs": [],
   "source": [
    "from torchaudio.models import Tacotron2\n",
    "# import os\n",
    "# os.environ[\"PYTORCH_CUDA_ALLOC_CONF\"] = \"max_split_size_mb:128\"\n",
    "\n",
    "# bundle = torchaudio.pipelines.TACOTRON2_WAVERNN_PHONE_LJSPEECH\n",
    "# tacotron2 = bundle./\n",
    "# Tacotron2.forward(tacotron2,text_tensors,text_lengths,melspecs,melspec_lengths)\n",
    "\n",
    "\n",
    "# model = Tacotron2()\n",
    "\n",
    "# model  = model.to(device)\n",
    "# if torch.cuda.device_count() > 1:\n",
    "#     model = DataParallel(model,device_ids=[0,1],dim=0)\n",
    "\n"
   ]
  },
  {
   "cell_type": "code",
   "execution_count": 37,
   "id": "7c96f0e8",
   "metadata": {
    "execution": {
     "iopub.execute_input": "2023-05-30T19:29:00.077632Z",
     "iopub.status.busy": "2023-05-30T19:29:00.076800Z",
     "iopub.status.idle": "2023-05-30T19:29:00.081304Z",
     "shell.execute_reply": "2023-05-30T19:29:00.080316Z"
    },
    "id": "4H40mMV3_SX0",
    "papermill": {
     "duration": 0.029107,
     "end_time": "2023-05-30T19:29:00.083457",
     "exception": false,
     "start_time": "2023-05-30T19:29:00.054350",
     "status": "completed"
    },
    "tags": []
   },
   "outputs": [],
   "source": [
    "torch.cuda.empty_cache()"
   ]
  },
  {
   "cell_type": "code",
   "execution_count": 38,
   "id": "3baf33de",
   "metadata": {
    "execution": {
     "iopub.execute_input": "2023-05-30T19:29:00.128484Z",
     "iopub.status.busy": "2023-05-30T19:29:00.127540Z",
     "iopub.status.idle": "2023-05-30T19:29:00.133991Z",
     "shell.execute_reply": "2023-05-30T19:29:00.132635Z"
    },
    "id": "yx8N4DHwDNjs",
    "outputId": "2c06b25c-6735-459c-e502-530035c64abf",
    "papermill": {
     "duration": 0.032213,
     "end_time": "2023-05-30T19:29:00.136243",
     "exception": false,
     "start_time": "2023-05-30T19:29:00.104030",
     "status": "completed"
    },
    "tags": []
   },
   "outputs": [
    {
     "name": "stdout",
     "output_type": "stream",
     "text": [
      "torch.Size([598, 80, 5676]) torch.Size([598]) torch.Size([598, 903]) torch.Size([598])\n"
     ]
    }
   ],
   "source": [
    "print(melspecs.shape,melspec_lengths.shape,text_tensors.shape,text_lengths.shape)"
   ]
  },
  {
   "cell_type": "code",
   "execution_count": 39,
   "id": "1a4261c0",
   "metadata": {
    "execution": {
     "iopub.execute_input": "2023-05-30T19:29:00.180595Z",
     "iopub.status.busy": "2023-05-30T19:29:00.180256Z",
     "iopub.status.idle": "2023-05-30T19:29:00.184494Z",
     "shell.execute_reply": "2023-05-30T19:29:00.183503Z"
    },
    "id": "33BFUdHZDNjs",
    "papermill": {
     "duration": 0.028996,
     "end_time": "2023-05-30T19:29:00.186872",
     "exception": false,
     "start_time": "2023-05-30T19:29:00.157876",
     "status": "completed"
    },
    "tags": []
   },
   "outputs": [],
   "source": [
    "\n",
    "\n",
    "\n",
    "# Create the optimizer\n",
    "# mae_loss = torch.nn.MSELoss()\n",
    "# stop_tokens_loss = torch.nn.BCEWithLogitsLoss()\n",
    "\n",
    "\n",
    "# optimizer = torch.optim.Adam(params=model.parameters(), # parameters of target model to optimize\n",
    "#                             lr=learning_rate)"
   ]
  },
  {
   "cell_type": "code",
   "execution_count": 40,
   "id": "43b87859",
   "metadata": {
    "execution": {
     "iopub.execute_input": "2023-05-30T19:29:00.229737Z",
     "iopub.status.busy": "2023-05-30T19:29:00.229397Z",
     "iopub.status.idle": "2023-05-30T19:29:00.236040Z",
     "shell.execute_reply": "2023-05-30T19:29:00.234988Z"
    },
    "id": "AXdyXek2DNjs",
    "outputId": "90b2a43d-51bc-41f8-bf9c-4e73f6f2bb3a",
    "papermill": {
     "duration": 0.030257,
     "end_time": "2023-05-30T19:29:00.237980",
     "exception": false,
     "start_time": "2023-05-30T19:29:00.207723",
     "status": "completed"
    },
    "tags": []
   },
   "outputs": [
    {
     "data": {
      "text/plain": [
       "0"
      ]
     },
     "execution_count": 40,
     "metadata": {},
     "output_type": "execute_result"
    }
   ],
   "source": [
    "torch.cuda.memory_reserved()"
   ]
  },
  {
   "cell_type": "code",
   "execution_count": 41,
   "id": "904503a1",
   "metadata": {
    "execution": {
     "iopub.execute_input": "2023-05-30T19:29:00.283050Z",
     "iopub.status.busy": "2023-05-30T19:29:00.281200Z",
     "iopub.status.idle": "2023-05-30T19:29:00.286298Z",
     "shell.execute_reply": "2023-05-30T19:29:00.285463Z"
    },
    "id": "5aknug1YIuxs",
    "outputId": "2cb07726-78b0-4f4a-9d74-20c32ea27ffa",
    "papermill": {
     "duration": 0.028947,
     "end_time": "2023-05-30T19:29:00.288266",
     "exception": false,
     "start_time": "2023-05-30T19:29:00.259319",
     "status": "completed"
    },
    "tags": []
   },
   "outputs": [],
   "source": [
    "# !pip3 install tqdm"
   ]
  },
  {
   "cell_type": "code",
   "execution_count": 42,
   "id": "ebff120a",
   "metadata": {
    "execution": {
     "iopub.execute_input": "2023-05-30T19:29:00.331681Z",
     "iopub.status.busy": "2023-05-30T19:29:00.331376Z",
     "iopub.status.idle": "2023-05-30T19:29:00.341823Z",
     "shell.execute_reply": "2023-05-30T19:29:00.340846Z"
    },
    "id": "8iR_dUHbDNjt",
    "outputId": "584a5a90-beae-4b15-ec63-79a240029b1e",
    "papermill": {
     "duration": 0.034522,
     "end_time": "2023-05-30T19:29:00.343877",
     "exception": false,
     "start_time": "2023-05-30T19:29:00.309355",
     "status": "completed"
    },
    "tags": []
   },
   "outputs": [],
   "source": [
    "# import gc\n",
    "# import torch.nn.utils.rnn as rnn_utils\n",
    "\n",
    "\n",
    "\n",
    "# train_loss_values = []\n",
    "# test_loss_values = []\n",
    "# epoch_count = []\n",
    "\n",
    "# from tqdm import tqdm\n",
    "# # torch.cuda.empty_cache()\n",
    "# # gc.collect()\n",
    "\n",
    "\n",
    "# accumulation_steps  = 5\n",
    "\n",
    "\n",
    "\n",
    "# for epoch in tqdm(range(epochs)):\n",
    "#     count = 0\n",
    "#     model.train()\n",
    "#     for mel_specs,mel_lens,text,text_lens in zip(mel_train_data,\n",
    "#                                                  mel_length_train_data,\n",
    "#                                                  text_train_data,\n",
    "#                                                  text_length_train_data):\n",
    "        \n",
    "        \n",
    "        \n",
    "\n",
    "#         count+=1\n",
    "        \n",
    "#         text_lens,sort_indices = text_lens.sort(0,descending=True)\n",
    "#         text = text[sort_indices]\n",
    "# #         mel_lens, sort_indices = torch.sort(mel_lens, descending=True)\n",
    "#         mel_specs = mel_specs[sort_indices]\n",
    "#         mel_lens = mel_lens[sort_indices]\n",
    "# #         print(mel_lens)\n",
    "\n",
    "# #         text_lens = text_lens[sort_indices]\n",
    "# #         print(text_lens.shape)\n",
    "# #         text = text[sort_indices]\n",
    "#         # print(mel_specs.shape)\n",
    "#         # print(mel_train_data)\n",
    "#         stop_lst = [melspec[1] for melspec in mel_specs]\n",
    "        \n",
    "#         stop_targets = torch.stack(stop_lst)\n",
    "#         # print(stop_targets.shape)\n",
    "       \n",
    "#         stop_targets  = stop_targets.to(device)\n",
    "        \n",
    "\n",
    "#         text = text.to(device)\n",
    "#         # print(torch.cuda.memory_allocated())\n",
    "        \n",
    "#         text_lens = text_lens.to(device)\n",
    "#         # print(torch.cuda.memory_allocated())\n",
    "\n",
    "#         mel_specs = mel_specs.to(device)\n",
    "#         # print(torch.cuda.memory_allocated())\n",
    "\n",
    "#         mel_lens = mel_specs.to(device)\n",
    "#         # print(torch.cuda.memory_allocated())\n",
    "# #         packed_text = rnn_utils.pack_padded_sequence(text, text_lens, batch_first=True)\n",
    "# #         packed_mel_specs = rnn_utils.pack_padded_sequence(mel_specs, mel_lens, batch_first=True)\n",
    "# #         print(packed_text)\n",
    "        \n",
    "#         try:\n",
    "#             pre_specs, post_specs, stop_tokens_pred,_ = model(text,text_lens,mel_specs,mel_lens)\n",
    "            \n",
    "#         except RuntimeError as e:\n",
    "            \n",
    "#             if \"CUDA out of memory\" in str(e):\n",
    "#                 # handle out of memory error\n",
    "                \n",
    "                \n",
    "                \n",
    "#                 pre_specs, post_specs, stop_tokens_pred,_ = model(text,text_lens,mel_specs,mel_lens)\n",
    "#             else:\n",
    "#                 raise e\n",
    "\n",
    "      \n",
    "        \n",
    "        \n",
    "#         mel_loss= mae_loss(pre_specs,post_specs) \n",
    "\n",
    "#         stop_loss = stop_tokens_loss(stop_tokens_pred,stop_targets)\n",
    "        \n",
    "        \n",
    "#         total_loss = mel_loss +stop_loss\n",
    "#         total_loss  = total_loss / accumulation_steps\n",
    "#         total_loss.backward()\n",
    "#         if count % accumulation_steps == 0:\n",
    "#           # print(\"hellloasd\")\n",
    "#             optimizer.zero_grad()\n",
    "#             optimizer.step()\n",
    "#             count = 0\n",
    "#           # print(\"gradient Acculated\")\n",
    "#     model.eval()\n",
    "#     with torch.inference_mode():\n",
    "#         for mel_specs,mel_lens,text,text_lens in zip(mel_test_data,\n",
    "#                                                     mel_length_test_data,\n",
    "#                                                     text_test_data,\n",
    "#                                                     text_length_test_data):\n",
    "            \n",
    "#             mel_lens, sort_indices = torch.sort(mel_lens)\n",
    "#             mel_specs = mel_specs[sort_indices]\n",
    "# #             print(_lens)\n",
    "            \n",
    "#             text_lens = text_lens[sort_indices]\n",
    "#             text = text[sort_indices]\n",
    "# #             print(text_lens.shape)\n",
    "# #             packed_text = rnn_utils.pack_padded_sequence(text, text_lens, batch_first=True)\n",
    "# #             packed_mel_specs = rnn_utils.pack_padded_sequence(mel_specs, mel_lens, batch_first=True)\n",
    "# #             print(packed_text)\n",
    "# #             packed_text.data, packed_text.batch_sizes, packed_mel_specs.data, packed_mel_specs.batch_sizes\n",
    "#             stop_lst = [melspec[1] for melspec in mel_specs]\n",
    "\n",
    "           \n",
    "        \n",
    "#             stop_targets_test = torch.stack(stop_lst)\n",
    "\n",
    "#             stop_targets_test  = stop_targets_test.to(device)\n",
    "            \n",
    "            \n",
    "\n",
    "#             text = text.to(device)\n",
    "#             # print(torch.cuda.memory_allocated())\n",
    "            \n",
    "#             text_lens = text_lens.to(device)\n",
    "#             # print(torch.cuda.memory_allocated())\n",
    "\n",
    "#             mel_specs = mel_specs.to(device)\n",
    "#             # print(torch.cuda.memory_allocated())\n",
    "\n",
    "#             mel_lens = mel_specs.to(device)\n",
    "#             # print(torch.cuda.memory_allocated())\n",
    "\n",
    "#             pre_specs, post_specs, stop_tokens_pred,_ = model(text,text_lens,mel_specs,mel_lens)\n",
    "#             mel_loss_test= mae_loss(pre_specs,post_specs) \n",
    "\n",
    "#             stop_loss_test = stop_tokens_loss(stop_tokens_pred,stop_targets_test)\n",
    "        \n",
    "        \n",
    "#             test_loss = mel_loss_test +stop_loss_test\n",
    "#         # put the model in evaluation mode for testing (inference)\n",
    "   \n",
    "        \n",
    "\n",
    "    \n",
    "#     # torch.cuda.empty_cache()\n",
    "   \n",
    "#     # # if epoch % 10 == 0:\n",
    "#     epoch_count.append(epoch)\n",
    "#     total_loss = total_loss.cpu()\n",
    "#     train_loss_values.append(total_loss.detach().cpu().numpy())\n",
    "#     test_loss_values.append(test_loss.detach().cpu().numpy())\n",
    "#     print(f\"Epoch: {epoch} |  Train Loss: {total_loss} | Test Loss {test_loss} \")\n",
    "    \n",
    "        \n",
    "       "
   ]
  },
  {
   "cell_type": "code",
   "execution_count": null,
   "id": "4fed6099",
   "metadata": {
    "execution": {
     "iopub.execute_input": "2023-05-30T18:58:22.668858Z",
     "iopub.status.busy": "2023-05-30T18:58:22.668278Z",
     "iopub.status.idle": "2023-05-30T18:58:26.873046Z",
     "shell.execute_reply": "2023-05-30T18:58:26.871524Z",
     "shell.execute_reply.started": "2023-05-30T18:58:22.668824Z"
    },
    "papermill": {
     "duration": 0.02054,
     "end_time": "2023-05-30T19:29:00.385686",
     "exception": false,
     "start_time": "2023-05-30T19:29:00.365146",
     "status": "completed"
    },
    "tags": []
   },
   "outputs": [],
   "source": []
  },
  {
   "cell_type": "code",
   "execution_count": 43,
   "id": "2cf23086",
   "metadata": {
    "execution": {
     "iopub.execute_input": "2023-05-30T19:29:00.430596Z",
     "iopub.status.busy": "2023-05-30T19:29:00.430198Z",
     "iopub.status.idle": "2023-05-30T19:29:00.435805Z",
     "shell.execute_reply": "2023-05-30T19:29:00.434761Z"
    },
    "id": "0JavVQJYDNjt",
    "papermill": {
     "duration": 0.031717,
     "end_time": "2023-05-30T19:29:00.438365",
     "exception": false,
     "start_time": "2023-05-30T19:29:00.406648",
     "status": "completed"
    },
    "tags": []
   },
   "outputs": [
    {
     "name": "stdout",
     "output_type": "stream",
     "text": [
      "2\n"
     ]
    }
   ],
   "source": [
    "num_of_gpus = torch.cuda.device_count()\n",
    "print(num_of_gpus)"
   ]
  },
  {
   "cell_type": "code",
   "execution_count": 44,
   "id": "57588d16",
   "metadata": {
    "execution": {
     "iopub.execute_input": "2023-05-30T19:29:00.485736Z",
     "iopub.status.busy": "2023-05-30T19:29:00.484788Z",
     "iopub.status.idle": "2023-05-30T19:29:00.492702Z",
     "shell.execute_reply": "2023-05-30T19:29:00.491613Z"
    },
    "id": "1j6FwRk-DNjt",
    "papermill": {
     "duration": 0.033937,
     "end_time": "2023-05-30T19:29:00.495025",
     "exception": false,
     "start_time": "2023-05-30T19:29:00.461088",
     "status": "completed"
    },
    "tags": []
   },
   "outputs": [
    {
     "data": {
      "text/plain": [
       "'|===========================================================================|\\n|                  PyTorch CUDA memory summary, device ID 0                 |\\n|---------------------------------------------------------------------------|\\n|            CUDA OOMs: 0            |        cudaMalloc retries: 0         |\\n|===========================================================================|\\n|        Metric         | Cur Usage  | Peak Usage | Tot Alloc  | Tot Freed  |\\n|---------------------------------------------------------------------------|\\n| Allocated memory      |      0 B   |      0 B   |      0 B   |      0 B   |\\n|       from large pool |      0 B   |      0 B   |      0 B   |      0 B   |\\n|       from small pool |      0 B   |      0 B   |      0 B   |      0 B   |\\n|---------------------------------------------------------------------------|\\n| Active memory         |      0 B   |      0 B   |      0 B   |      0 B   |\\n|       from large pool |      0 B   |      0 B   |      0 B   |      0 B   |\\n|       from small pool |      0 B   |      0 B   |      0 B   |      0 B   |\\n|---------------------------------------------------------------------------|\\n| Requested memory      |      0 B   |      0 B   |      0 B   |      0 B   |\\n|       from large pool |      0 B   |      0 B   |      0 B   |      0 B   |\\n|       from small pool |      0 B   |      0 B   |      0 B   |      0 B   |\\n|---------------------------------------------------------------------------|\\n| GPU reserved memory   |      0 B   |      0 B   |      0 B   |      0 B   |\\n|       from large pool |      0 B   |      0 B   |      0 B   |      0 B   |\\n|       from small pool |      0 B   |      0 B   |      0 B   |      0 B   |\\n|---------------------------------------------------------------------------|\\n| Non-releasable memory |      0 B   |      0 B   |      0 B   |      0 B   |\\n|       from large pool |      0 B   |      0 B   |      0 B   |      0 B   |\\n|       from small pool |      0 B   |      0 B   |      0 B   |      0 B   |\\n|---------------------------------------------------------------------------|\\n| Allocations           |       0    |       0    |       0    |       0    |\\n|       from large pool |       0    |       0    |       0    |       0    |\\n|       from small pool |       0    |       0    |       0    |       0    |\\n|---------------------------------------------------------------------------|\\n| Active allocs         |       0    |       0    |       0    |       0    |\\n|       from large pool |       0    |       0    |       0    |       0    |\\n|       from small pool |       0    |       0    |       0    |       0    |\\n|---------------------------------------------------------------------------|\\n| GPU reserved segments |       0    |       0    |       0    |       0    |\\n|       from large pool |       0    |       0    |       0    |       0    |\\n|       from small pool |       0    |       0    |       0    |       0    |\\n|---------------------------------------------------------------------------|\\n| Non-releasable allocs |       0    |       0    |       0    |       0    |\\n|       from large pool |       0    |       0    |       0    |       0    |\\n|       from small pool |       0    |       0    |       0    |       0    |\\n|---------------------------------------------------------------------------|\\n| Oversize allocations  |       0    |       0    |       0    |       0    |\\n|---------------------------------------------------------------------------|\\n| Oversize GPU segments |       0    |       0    |       0    |       0    |\\n|===========================================================================|\\n'"
      ]
     },
     "execution_count": 44,
     "metadata": {},
     "output_type": "execute_result"
    }
   ],
   "source": [
    "torch.cuda.memory_summary(device=None, abbreviated=False)"
   ]
  },
  {
   "cell_type": "code",
   "execution_count": null,
   "id": "1bd452ee",
   "metadata": {
    "id": "fi-t4O2cDNjt",
    "papermill": {
     "duration": 0.023072,
     "end_time": "2023-05-30T19:29:00.541436",
     "exception": false,
     "start_time": "2023-05-30T19:29:00.518364",
     "status": "completed"
    },
    "tags": []
   },
   "outputs": [],
   "source": []
  },
  {
   "cell_type": "code",
   "execution_count": null,
   "id": "d0c0865c",
   "metadata": {
    "id": "d10Qr9T7DNjt",
    "papermill": {
     "duration": 0.021684,
     "end_time": "2023-05-30T19:29:00.586044",
     "exception": false,
     "start_time": "2023-05-30T19:29:00.564360",
     "status": "completed"
    },
    "tags": []
   },
   "outputs": [],
   "source": []
  },
  {
   "cell_type": "code",
   "execution_count": null,
   "id": "8c1e61ed",
   "metadata": {
    "id": "IZHntyPHDNjt",
    "papermill": {
     "duration": 0.021001,
     "end_time": "2023-05-30T19:29:00.628299",
     "exception": false,
     "start_time": "2023-05-30T19:29:00.607298",
     "status": "completed"
    },
    "tags": []
   },
   "outputs": [],
   "source": []
  },
  {
   "cell_type": "code",
   "execution_count": null,
   "id": "3bf90551",
   "metadata": {
    "papermill": {
     "duration": 0.020833,
     "end_time": "2023-05-30T19:29:00.670342",
     "exception": false,
     "start_time": "2023-05-30T19:29:00.649509",
     "status": "completed"
    },
    "tags": []
   },
   "outputs": [],
   "source": []
  },
  {
   "cell_type": "code",
   "execution_count": null,
   "id": "07575549",
   "metadata": {
    "papermill": {
     "duration": 0.020157,
     "end_time": "2023-05-30T19:29:00.711000",
     "exception": false,
     "start_time": "2023-05-30T19:29:00.690843",
     "status": "completed"
    },
    "tags": []
   },
   "outputs": [],
   "source": []
  },
  {
   "cell_type": "code",
   "execution_count": null,
   "id": "0f6ef59e",
   "metadata": {
    "papermill": {
     "duration": 0.020932,
     "end_time": "2023-05-30T19:29:00.753427",
     "exception": false,
     "start_time": "2023-05-30T19:29:00.732495",
     "status": "completed"
    },
    "tags": []
   },
   "outputs": [],
   "source": []
  },
  {
   "cell_type": "code",
   "execution_count": null,
   "id": "4c31b709",
   "metadata": {
    "papermill": {
     "duration": 0.02045,
     "end_time": "2023-05-30T19:29:00.795138",
     "exception": false,
     "start_time": "2023-05-30T19:29:00.774688",
     "status": "completed"
    },
    "tags": []
   },
   "outputs": [],
   "source": []
  },
  {
   "cell_type": "code",
   "execution_count": null,
   "id": "03a106e8",
   "metadata": {
    "papermill": {
     "duration": 0.020494,
     "end_time": "2023-05-30T19:29:00.836378",
     "exception": false,
     "start_time": "2023-05-30T19:29:00.815884",
     "status": "completed"
    },
    "tags": []
   },
   "outputs": [],
   "source": []
  },
  {
   "cell_type": "code",
   "execution_count": null,
   "id": "7cdfa535",
   "metadata": {
    "papermill": {
     "duration": 0.020434,
     "end_time": "2023-05-30T19:29:00.877420",
     "exception": false,
     "start_time": "2023-05-30T19:29:00.856986",
     "status": "completed"
    },
    "tags": []
   },
   "outputs": [],
   "source": []
  },
  {
   "cell_type": "code",
   "execution_count": null,
   "id": "d61ea705",
   "metadata": {
    "papermill": {
     "duration": 0.020966,
     "end_time": "2023-05-30T19:29:00.919335",
     "exception": false,
     "start_time": "2023-05-30T19:29:00.898369",
     "status": "completed"
    },
    "tags": []
   },
   "outputs": [],
   "source": []
  },
  {
   "cell_type": "code",
   "execution_count": null,
   "id": "b583c8c2",
   "metadata": {
    "papermill": {
     "duration": 0.020973,
     "end_time": "2023-05-30T19:29:00.962011",
     "exception": false,
     "start_time": "2023-05-30T19:29:00.941038",
     "status": "completed"
    },
    "tags": []
   },
   "outputs": [],
   "source": []
  },
  {
   "cell_type": "code",
   "execution_count": null,
   "id": "4b8fa3fa",
   "metadata": {
    "papermill": {
     "duration": 0.020821,
     "end_time": "2023-05-30T19:29:01.003931",
     "exception": false,
     "start_time": "2023-05-30T19:29:00.983110",
     "status": "completed"
    },
    "tags": []
   },
   "outputs": [],
   "source": []
  },
  {
   "cell_type": "code",
   "execution_count": null,
   "id": "1d604df0",
   "metadata": {
    "papermill": {
     "duration": 0.027173,
     "end_time": "2023-05-30T19:29:01.052544",
     "exception": false,
     "start_time": "2023-05-30T19:29:01.025371",
     "status": "completed"
    },
    "tags": []
   },
   "outputs": [],
   "source": []
  },
  {
   "cell_type": "code",
   "execution_count": null,
   "id": "b6881d10",
   "metadata": {
    "papermill": {
     "duration": 0.027752,
     "end_time": "2023-05-30T19:29:01.126036",
     "exception": false,
     "start_time": "2023-05-30T19:29:01.098284",
     "status": "completed"
    },
    "tags": []
   },
   "outputs": [],
   "source": []
  },
  {
   "cell_type": "code",
   "execution_count": null,
   "id": "3e00a492",
   "metadata": {
    "papermill": {
     "duration": 0.023792,
     "end_time": "2023-05-30T19:29:01.174059",
     "exception": false,
     "start_time": "2023-05-30T19:29:01.150267",
     "status": "completed"
    },
    "tags": []
   },
   "outputs": [],
   "source": []
  },
  {
   "cell_type": "code",
   "execution_count": null,
   "id": "d062e82b",
   "metadata": {
    "papermill": {
     "duration": 0.020561,
     "end_time": "2023-05-30T19:29:01.217216",
     "exception": false,
     "start_time": "2023-05-30T19:29:01.196655",
     "status": "completed"
    },
    "tags": []
   },
   "outputs": [],
   "source": []
  },
  {
   "cell_type": "code",
   "execution_count": null,
   "id": "5f141337",
   "metadata": {
    "papermill": {
     "duration": 0.019963,
     "end_time": "2023-05-30T19:29:01.257636",
     "exception": false,
     "start_time": "2023-05-30T19:29:01.237673",
     "status": "completed"
    },
    "tags": []
   },
   "outputs": [],
   "source": []
  },
  {
   "cell_type": "code",
   "execution_count": null,
   "id": "8b56cdac",
   "metadata": {
    "papermill": {
     "duration": 0.020853,
     "end_time": "2023-05-30T19:29:01.299176",
     "exception": false,
     "start_time": "2023-05-30T19:29:01.278323",
     "status": "completed"
    },
    "tags": []
   },
   "outputs": [],
   "source": []
  }
 ],
 "metadata": {
  "kernelspec": {
   "display_name": "Python 3",
   "language": "python",
   "name": "python3"
  },
  "language_info": {
   "codemirror_mode": {
    "name": "ipython",
    "version": 3
   },
   "file_extension": ".py",
   "mimetype": "text/x-python",
   "name": "python",
   "nbconvert_exporter": "python",
   "pygments_lexer": "ipython3",
   "version": "3.10.10"
  },
  "papermill": {
   "default_parameters": {},
   "duration": 96.199368,
   "end_time": "2023-05-30T19:29:03.921232",
   "environment_variables": {},
   "exception": null,
   "input_path": "__notebook__.ipynb",
   "output_path": "__notebook__.ipynb",
   "parameters": {},
   "start_time": "2023-05-30T19:27:27.721864",
   "version": "2.4.0"
  }
 },
 "nbformat": 4,
 "nbformat_minor": 5
}
